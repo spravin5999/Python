{
 "cells": [
  {
   "cell_type": "code",
   "execution_count": 1,
   "metadata": {},
   "outputs": [
    {
     "name": "stdout",
     "output_type": "stream",
     "text": [
      "SPTAA\n"
     ]
    }
   ],
   "source": [
    "print(\"SPTAA\")"
   ]
  },
  {
   "cell_type": "code",
   "execution_count": 6,
   "metadata": {},
   "outputs": [
    {
     "name": "stdout",
     "output_type": "stream",
     "text": [
      "Age Calculator\n",
      "Enter The Value of Age  :  36\n",
      "Citizen\n"
     ]
    }
   ],
   "source": [
    "print(\"Age Calculator\")\n",
    "age=int(input(\"Enter The Value of Age  :  \"))\n",
    "person=\"text\"\n",
    "\n",
    "if(age<18):\n",
    "    person=\"Children\"\n",
    "elif(age<35):\n",
    "    person=\"Adult\"\n",
    "elif(age<59):\n",
    "    person=\"Citizen\"\n",
    "else:\n",
    "    person=\"Senior Citizen\"\n",
    "    \n",
    "print(person)"
   ]
  },
  {
   "cell_type": "code",
   "execution_count": 11,
   "metadata": {},
   "outputs": [
    {
     "name": "stdout",
     "output_type": "stream",
     "text": [
      "0\n",
      "3\n",
      "6\n",
      "9\n",
      "12\n",
      "15\n",
      "18\n"
     ]
    }
   ],
   "source": [
    "for num in range(0,20,3):\n",
    "    print(num)"
   ]
  },
  {
   "cell_type": "code",
   "execution_count": null,
   "metadata": {},
   "outputs": [],
   "source": []
  }
 ],
 "metadata": {
  "kernelspec": {
   "display_name": "Python 3",
   "language": "python",
   "name": "python3"
  },
  "language_info": {
   "codemirror_mode": {
    "name": "ipython",
    "version": 3
   },
   "file_extension": ".py",
   "mimetype": "text/x-python",
   "name": "python",
   "nbconvert_exporter": "python",
   "pygments_lexer": "ipython3",
   "version": "3.7.4"
  }
 },
 "nbformat": 4,
 "nbformat_minor": 2
}
