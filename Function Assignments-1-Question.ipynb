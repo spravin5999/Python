{
 "cells": [
  {
   "cell_type": "code",
   "execution_count": 8,
   "metadata": {},
   "outputs": [],
   "source": [
    "def Subfields():\n",
    "    print(\" Sub-fields in AI are: \\n Machine Learning \\n Neural Networks \\n Robotics \\n Speech Processing \\n Natural Language Processing\")"
   ]
  },
  {
   "cell_type": "code",
   "execution_count": 9,
   "metadata": {},
   "outputs": [
    {
     "name": "stdout",
     "output_type": "stream",
     "text": [
      " Sub-fields in AI are: \n",
      " Machine Learning \n",
      " Neural Networks \n",
      " Robotics \n",
      " Speech Processing \n",
      " Natural Language Processing\n"
     ]
    }
   ],
   "source": [
    "Subfields()"
   ]
  },
  {
   "cell_type": "code",
   "execution_count": 10,
   "metadata": {},
   "outputs": [],
   "source": [
    "def OddEven():\n",
    "    num=int(input(\"Enter a number : \"))\n",
    "    if((num%2)==1):\n",
    "        print(num, \" is Odd Number\")\n",
    "    else:\n",
    "        print(num, \"is Even number\")\n",
    "    "
   ]
  },
  {
   "cell_type": "code",
   "execution_count": 11,
   "metadata": {},
   "outputs": [
    {
     "name": "stdout",
     "output_type": "stream",
     "text": [
      "Enter a number : 4\n",
      "4 is Even number\n"
     ]
    }
   ],
   "source": [
    "OddEven()"
   ]
  },
  {
   "cell_type": "code",
   "execution_count": 12,
   "metadata": {},
   "outputs": [],
   "source": [
    "def Elegible():\n",
    "    gender=input(\"Your Gender : \")\n",
    "    age=int(input(\"Your Age : \"))\n",
    "    if(age<21):\n",
    "        print(\"NOT ELIGIBLE\")\n",
    "    else:\n",
    "        print(\"ELIGIBLE\")"
   ]
  },
  {
   "cell_type": "code",
   "execution_count": 14,
   "metadata": {},
   "outputs": [
    {
     "name": "stdout",
     "output_type": "stream",
     "text": [
      "Your Gender : male\n",
      "Your Age : 23\n",
      "ELIGIBLE\n"
     ]
    }
   ],
   "source": [
    "Elegible()"
   ]
  },
  {
   "cell_type": "code",
   "execution_count": 18,
   "metadata": {},
   "outputs": [],
   "source": [
    "def percentage():\n",
    "    s1=int(input(\"Subject1= \"))\n",
    "    s2=int(input(\"Subject2= \"))\n",
    "    s3=int(input(\"Subject3= \"))\n",
    "    s4=int(input(\"Subject4= \"))\n",
    "    s5=int(input(\"Subject5= \"))\n",
    "    tot=s1+s2+s3+s4+s5\n",
    "    per=tot/5\n",
    "    print(\"Total  :  \", tot)\n",
    "    print(\"Percentage  :  \", per)"
   ]
  },
  {
   "cell_type": "code",
   "execution_count": 16,
   "metadata": {},
   "outputs": [
    {
     "name": "stdout",
     "output_type": "stream",
     "text": [
      "Subject1= 23\n",
      "Subject2= 45\n",
      "Subject3= 34\n",
      "Subject4= 23\n",
      "Subject5= 23\n",
      "Total  :   148\n",
      "Percentage  :   29.6\n"
     ]
    }
   ],
   "source": [
    "percentage()"
   ]
  },
  {
   "cell_type": "code",
   "execution_count": 23,
   "metadata": {},
   "outputs": [],
   "source": [
    "def triangle():\n",
    "    height=int(input(\"Height  : \"))\n",
    "    breadth=int(input(\"Breadth  : \"))\n",
    "    print(\"Area formula: (Height*Breadth)/2 \\nArea of Triangle :\", (height*breadth)/2)\n",
    "    \n",
    "    height1=int(input(\"Height1  : \"))\n",
    "    height2=int(input(\"Height2  : \"))\n",
    "    breadth2=int(input(\"Breadth  : \"))\n",
    "    print(\"Perimeter formula: Height1+Height2+Breadth \\nPerimeter of Triangle: \", height1+height2+breadth2)"
   ]
  },
  {
   "cell_type": "code",
   "execution_count": 24,
   "metadata": {},
   "outputs": [
    {
     "name": "stdout",
     "output_type": "stream",
     "text": [
      "Height  : 3\n",
      "Breadth  : 4\n",
      "Area formula: (Height*Breadth)/2 \n",
      "Area of Triangle : 6.0\n",
      "Height1  : 3\n",
      "Height2  : 4\n",
      "Breadth  : 45\n",
      "Perimeter formula: Height1+Height2+Breadth \n",
      "Perimeter of Triangle:  52\n"
     ]
    }
   ],
   "source": [
    "triangle()"
   ]
  }
 ],
 "metadata": {
  "kernelspec": {
   "display_name": "Python 3",
   "language": "python",
   "name": "python3"
  },
  "language_info": {
   "codemirror_mode": {
    "name": "ipython",
    "version": 3
   },
   "file_extension": ".py",
   "mimetype": "text/x-python",
   "name": "python",
   "nbconvert_exporter": "python",
   "pygments_lexer": "ipython3",
   "version": "3.7.4"
  }
 },
 "nbformat": 4,
 "nbformat_minor": 2
}
